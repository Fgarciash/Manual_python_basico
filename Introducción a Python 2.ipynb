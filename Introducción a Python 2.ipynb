{
 "cells": [
  {
   "cell_type": "markdown",
   "metadata": {},
   "source": [
    "# Manual Python Básico"
   ]
  },
  {
   "cell_type": "markdown",
   "metadata": {},
   "source": [
    "### Breve introducción a las funciones:\n",
    "\n",
    "En python la programación de funciones inicia con la palabra reservada \"def\" más el nombre que le asignemos a la función. Estas pueden ser paramétricas o no paramétricas, es decir podemos imputar información directamente en el código de la función, o programar parámetros para posteriormente ingresarlos a la función mediante una invocación.\n",
    "\n",
    "La instrucción o algoritmo de la función debe ser identada (sangría) por 2 espacios. \n",
    "\n",
    "Por ejemplo para ejecutar tres print consecutivos creamos la función \"mensaje\":"
   ]
  },
  {
   "cell_type": "code",
   "execution_count": 1,
   "metadata": {},
   "outputs": [],
   "source": [
    "def mensaje(): ## definamos la función mensaje sin parámetros (paréntesis vacios)\n",
    "\n",
    "\tprint(\"haciendo una función\")\n",
    "\tprint(\"repitiendo texto\")\n",
    "\tprint(\"Hola\")"
   ]
  },
  {
   "cell_type": "markdown",
   "metadata": {},
   "source": [
    "Luego invocamos a la función de la forma \"mensaje()\", la cual imprimirá las tres instrucciones que indicamos."
   ]
  },
  {
   "cell_type": "code",
   "execution_count": 2,
   "metadata": {},
   "outputs": [
    {
     "name": "stdout",
     "output_type": "stream",
     "text": [
      "haciendo una función\n",
      "repitiendo texto\n",
      "Hola\n"
     ]
    }
   ],
   "source": [
    "mensaje() ## ejecutamos la función"
   ]
  },
  {
   "cell_type": "markdown",
   "metadata": {},
   "source": [
    "Las funciones paramétricas, como su nombre lo indica, reciben parámetros:\n",
    "\n",
    "En el siguiente ejemplo se define la función \"suma\" la que recibe 2 parámetros. En este ejemplo los parámetros son declarados dentro del paréntesis al momento de programar la función."
   ]
  },
  {
   "cell_type": "code",
   "execution_count": 3,
   "metadata": {},
   "outputs": [],
   "source": [
    "def suma(num1,num2):\n",
    "\n",
    "\tprint(num1+num2)"
   ]
  },
  {
   "cell_type": "markdown",
   "metadata": {},
   "source": [
    "Luego invocamos la función agregando los valores que queremos considerar. Es posible ir modificando estos valores dado que fueron programados como parámetros dentro de la función."
   ]
  },
  {
   "cell_type": "code",
   "execution_count": 4,
   "metadata": {},
   "outputs": [
    {
     "name": "stdout",
     "output_type": "stream",
     "text": [
      "15\n"
     ]
    }
   ],
   "source": [
    "suma(8,7) # aquí es posible modificar los valores o parámetros y "
   ]
  },
  {
   "cell_type": "markdown",
   "metadata": {},
   "source": [
    "Otra alternativa es almacenar el resultado como objeto, el cual será posteriormente invocado e imprimido utilizando la función print.\n"
   ]
  },
  {
   "cell_type": "code",
   "execution_count": 5,
   "metadata": {},
   "outputs": [],
   "source": [
    "def suma3(num1,num2): #definimos la función e indicamos que son necesarios 2 parámetros\n",
    "\tresultado=num1+num2\n",
    "\n",
    "\treturn resultado"
   ]
  },
  {
   "cell_type": "code",
   "execution_count": 6,
   "metadata": {},
   "outputs": [
    {
     "name": "stdout",
     "output_type": "stream",
     "text": [
      "28\n"
     ]
    }
   ],
   "source": [
    "print(suma3(8,20))"
   ]
  },
  {
   "cell_type": "markdown",
   "metadata": {},
   "source": [
    "Al principio parece no tener sentido elegir almacenar el resultado como objeto, o ejecuralo directamente con un print, sin embargo cuando se escriben códigos de mayor complejidad resulta muy util esta alternativa."
   ]
  },
  {
   "cell_type": "markdown",
   "metadata": {},
   "source": [
    "## Tipos de objetos dentro de una función."
   ]
  },
  {
   "cell_type": "markdown",
   "metadata": {},
   "source": [
    "En python, los objetos definidos dentro de una función pueden ser locales, no locales o globales. \n",
    "Esto relacionado a que podemos programar funciones anidadas, es decir, funciones dentro de otras funciones, o de programas, luego los objetos podemos definirlos como exclusivos para un determinado nivel del anidamiento, o podemos programar que una función o subfunción utilice los objetos programados en niveles superiores o inferiores del anidamiento.\n",
    "\n",
    " - locales: Pertenecen al ámbito de la subrutina (y que pueden ser accesibles a niveles inferiores)\n",
    " - globales: Pertenecen al ámbito del programa principal.\n",
    " - no locales: Pertenecen a un ámbito superior al de la subrutina, pero que no son globales.\n",
    " "
   ]
  },
  {
   "cell_type": "markdown",
   "metadata": {},
   "source": [
    "En el siguiente ejemplo se declara dos veces el objeto \"a\", uno de manera global (a=5) y otro de manera local (a=2). Notar que python no tiene inconveniente con la igualdad de nombres cuando los objetos son declarados en diferentes niveles de anidamiento."
   ]
  },
  {
   "cell_type": "code",
   "execution_count": 7,
   "metadata": {},
   "outputs": [],
   "source": [
    "a=5\n",
    "def ejemplo():\n",
    "\ta=2    \n",
    "\tprint(a)\n",
    "\treturn\n"
   ]
  },
  {
   "cell_type": "markdown",
   "metadata": {},
   "source": [
    "Al momento de invocar a la función que llamamos \"ejemplo\", nos imprimirá el objeto local (a=2). sin embargo si invocamos el objeto \"a\" que está fuera de la función mediante un \"print\" nos imprimirá el objeto global."
   ]
  },
  {
   "cell_type": "code",
   "execution_count": 8,
   "metadata": {
    "scrolled": true
   },
   "outputs": [
    {
     "name": "stdout",
     "output_type": "stream",
     "text": [
      "2\n",
      "5\n"
     ]
    }
   ],
   "source": [
    "ejemplo()\n",
    "print(a)"
   ]
  },
  {
   "cell_type": "markdown",
   "metadata": {},
   "source": [
    "Si modificamos el ejemplo y no definimos un objeto local (declaramos el objeto libre en la función), por default python buscará el objeto existente en el nivel superior (en este ejemplo será el objeto global)."
   ]
  },
  {
   "cell_type": "code",
   "execution_count": 9,
   "metadata": {},
   "outputs": [],
   "source": [
    "a=5\n",
    "def ejemplo2():\n",
    "\n",
    "\tprint(a)\n",
    "\treturn"
   ]
  },
  {
   "cell_type": "code",
   "execution_count": 10,
   "metadata": {},
   "outputs": [
    {
     "name": "stdout",
     "output_type": "stream",
     "text": [
      "5\n",
      "5\n"
     ]
    }
   ],
   "source": [
    "ejemplo2()\n",
    "print(a)"
   ]
  },
  {
   "cell_type": "markdown",
   "metadata": {},
   "source": [
    "Por otro lado los objetos locales sólo existen en la propia función y no son accesibles desde niveles superiores, como puede verse en el siguiente ejemplo:"
   ]
  },
  {
   "cell_type": "code",
   "execution_count": 11,
   "metadata": {},
   "outputs": [],
   "source": [
    "def ejemplo3():\n",
    "\tb=2\n",
    "\tprint(b)\n",
    "\treturn"
   ]
  },
  {
   "cell_type": "code",
   "execution_count": 12,
   "metadata": {},
   "outputs": [
    {
     "name": "stdout",
     "output_type": "stream",
     "text": [
      "2\n"
     ]
    },
    {
     "ename": "NameError",
     "evalue": "name 'b' is not defined",
     "output_type": "error",
     "traceback": [
      "\u001b[1;31m---------------------------------------------------------------------------\u001b[0m",
      "\u001b[1;31mNameError\u001b[0m                                 Traceback (most recent call last)",
      "\u001b[1;32m<ipython-input-12-a9ca85749b46>\u001b[0m in \u001b[0;36m<module>\u001b[1;34m\u001b[0m\n\u001b[0;32m      1\u001b[0m \u001b[0mejemplo3\u001b[0m\u001b[1;33m(\u001b[0m\u001b[1;33m)\u001b[0m  \u001b[1;31m# se imprime correctamente el valor 2 dado que se está invocando la función\u001b[0m\u001b[1;33m\u001b[0m\u001b[1;33m\u001b[0m\u001b[0m\n\u001b[0;32m      2\u001b[0m \u001b[1;33m\u001b[0m\u001b[0m\n\u001b[1;32m----> 3\u001b[1;33m \u001b[0mprint\u001b[0m\u001b[1;33m(\u001b[0m\u001b[0mb\u001b[0m\u001b[1;33m)\u001b[0m    \u001b[1;31m# el error se produce por que el objeto \"b\" está definida a nivel local dentro de la función\u001b[0m\u001b[1;33m\u001b[0m\u001b[1;33m\u001b[0m\u001b[0m\n\u001b[0m\u001b[0;32m      4\u001b[0m             \u001b[1;31m# La invocación mediante este print se está relizando a nivel global donde no existe objeto\u001b[0m\u001b[1;33m\u001b[0m\u001b[1;33m\u001b[0m\u001b[1;33m\u001b[0m\u001b[0m\n",
      "\u001b[1;31mNameError\u001b[0m: name 'b' is not defined"
     ]
    }
   ],
   "source": [
    "ejemplo3()  # se imprime correctamente el valor 2 dado que se está invocando la función\n",
    "             \n",
    "print(b)    # el error se produce por que el objeto \"b\" está definida a nivel local dentro de la función   \n",
    "            # La invocación mediante este print se está relizando a nivel global donde no existe objeto"
   ]
  },
  {
   "cell_type": "markdown",
   "metadata": {},
   "source": [
    "El siguiente ejemplo contiene una función anidada en otra. Observe que no se ha definido ningún objeto en la \"sub_funcion\" (objeto libre). Por default python consulatará la existencia del objeto definido en el nivel superior (función, a=3). Auque definimos un objeto \"a\" a nivel \"global\" (a=4) python utilizará el objeto \"no local\", es decir el declarado en la función (a=3). finalmete, cuando relizamos un print de la variable fuera de las funciones imprimirá el objeto \"global\" (a=4)."
   ]
  },
  {
   "cell_type": "code",
   "execution_count": 13,
   "metadata": {},
   "outputs": [],
   "source": [
    "a = 4"
   ]
  },
  {
   "cell_type": "code",
   "execution_count": 14,
   "metadata": {},
   "outputs": [],
   "source": [
    "def funcion():\n",
    "\tdef sub_funcion():\n",
    "\t\tprint(a)\n",
    "\t\treturn\n",
    "\n",
    "\ta = 3\n",
    "\tsub_funcion()\n",
    "\tprint(a)\n",
    "\treturn\n",
    "\n",
    "\n"
   ]
  },
  {
   "cell_type": "code",
   "execution_count": 15,
   "metadata": {
    "scrolled": true
   },
   "outputs": [
    {
     "name": "stdout",
     "output_type": "stream",
     "text": [
      "3\n",
      "3\n",
      "4\n"
     ]
    }
   ],
   "source": [
    "funcion() #imprime el resultado de la sub_función (objeto libre) y de la función (a=3)\n",
    "print(a)  #imprime el resultado del objeto global (a=4) "
   ]
  },
  {
   "cell_type": "markdown",
   "metadata": {},
   "source": [
    "También podemos utilizar el comando \"global\" para redefinir objetos como globales cuando lo hemos declarados en una función de manera local. En el ejemplo se declara el objeto \"a\" como global, luego en la función2 declaramos otro objeto con el mismo nombre pero de manera local. Con el comando \"global\" lo transformamos en global, luego al invocar el objeto global, el resultado será el objeto declarado como local. \n",
    "\n",
    "De manera análoga lo podríamos hacer con el comando \"nonlocal\" para redefinir un objeto como \"no local\". "
   ]
  },
  {
   "cell_type": "code",
   "execution_count": 16,
   "metadata": {},
   "outputs": [],
   "source": [
    "a = 5 # declaramos objeto global"
   ]
  },
  {
   "cell_type": "code",
   "execution_count": 17,
   "metadata": {},
   "outputs": [
    {
     "name": "stdout",
     "output_type": "stream",
     "text": [
      "5\n"
     ]
    }
   ],
   "source": [
    "print(a) #lo imprimimos"
   ]
  },
  {
   "cell_type": "code",
   "execution_count": 18,
   "metadata": {},
   "outputs": [],
   "source": [
    "def funcion2(): # declaramos la variable a=1 como global\n",
    "\tglobal a\n",
    "\ta = 1\n",
    "\treturn\n",
    "\n",
    "\n"
   ]
  },
  {
   "cell_type": "code",
   "execution_count": 19,
   "metadata": {},
   "outputs": [
    {
     "name": "stdout",
     "output_type": "stream",
     "text": [
      "5\n"
     ]
    }
   ],
   "source": [
    "print(a) # imprimimos nuevamente el objeto declarado al inicio"
   ]
  },
  {
   "cell_type": "code",
   "execution_count": 20,
   "metadata": {},
   "outputs": [],
   "source": [
    "funcion2() # invocamos la función en la que transformamos la variable local a global\n"
   ]
  },
  {
   "cell_type": "code",
   "execution_count": 21,
   "metadata": {},
   "outputs": [
    {
     "name": "stdout",
     "output_type": "stream",
     "text": [
      "1\n"
     ]
    }
   ],
   "source": [
    "print(a) # imprimimos nuevamente la variable global y observamos como cambió"
   ]
  },
  {
   "cell_type": "markdown",
   "metadata": {},
   "source": [
    "Puede resultar dificil entender el porqué definir objetos locales, no locales, globales, dejarlos expresados como libres, o redefinir objetos. Sin embargo al momento de realizar programas más complejos lo anterior resulta muy cómodo, ya que nos permite ahorrar, simplificar y reciclar línea de código.  "
   ]
  },
  {
   "cell_type": "markdown",
   "metadata": {},
   "source": [
    "## Parámetros abiertos en la función"
   ]
  },
  {
   "cell_type": "markdown",
   "metadata": {},
   "source": [
    "Otra característica de las funciones en python es que además de definir los parámetros de la función, podemos dejar abierta la posibilidad de imputar \"n\" parámetros. Esto lo podemos conseguir anteponiendo el caracter * al nombre del parámetro, con esto, cada nuevo argumento que agreguemos al momento de invocar la función se almacenará dentro de una tupla.\n",
    "\n",
    "A modo de ejemplificar lo anterior definiremos una función \"la_funcion1\" de dos parámetros que imprimirá el string \"hola\" 3 veces. "
   ]
  },
  {
   "cell_type": "code",
   "execution_count": 22,
   "metadata": {},
   "outputs": [],
   "source": [
    "def La_funcion1(string, n): \n",
    "\tprint(string *n)"
   ]
  },
  {
   "cell_type": "code",
   "execution_count": 23,
   "metadata": {
    "scrolled": true
   },
   "outputs": [
    {
     "name": "stdout",
     "output_type": "stream",
     "text": [
      "hola hola hola \n"
     ]
    }
   ],
   "source": [
    "La_funcion1(\"hola \",3)"
   ]
  },
  {
   "cell_type": "markdown",
   "metadata": {},
   "source": [
    "Incorporaremos un número \"n\" de nuevos parámetros con el caracter * seguido del nombre (*tupla).\n",
    "Con esto, además de imprimir la palabra \"hola\" 3 veces, haremos un recorrido con el bucle for para que imprima también 3 veces cada nuevo argumento incorporado en la llamada de la función."
   ]
  },
  {
   "cell_type": "code",
   "execution_count": 24,
   "metadata": {},
   "outputs": [],
   "source": [
    "def La_funcion2(string, n, *tupla): \n",
    "\tprint(string *n)\n",
    "\tfor i in tupla:\n",
    "\t\tprint(i*n)\n",
    "    \n",
    "    "
   ]
  },
  {
   "cell_type": "code",
   "execution_count": 25,
   "metadata": {},
   "outputs": [
    {
     "name": "stdout",
     "output_type": "stream",
     "text": [
      "Hola Hola Hola \n",
      "agregamos agregamos agregamos \n",
      "tantos tantos tantos \n",
      "nuevos nuevos nuevos \n",
      "argumentos argumentos argumentos \n",
      "como como como \n",
      "queramos queramos queramos \n"
     ]
    }
   ],
   "source": [
    "La_funcion2(\"Hola \", 3, \"agregamos \", \"tantos \", \"nuevos \", \"argumentos \", \"como \", \"queramos \")"
   ]
  },
  {
   "cell_type": "markdown",
   "metadata": {},
   "source": [
    "De manera análoga podemos definir argumentos pertenecientes a un diccionario anteponiendo ** al nombre, luego al invocar la función debemos agregar como argumento la clave y luego el valor asignado a dicha clave para que sea almacenado como diccionario. \n",
    "\n",
    "En ejemplo agregaremos el parámetro Diccionario. "
   ]
  },
  {
   "cell_type": "code",
   "execution_count": 26,
   "metadata": {},
   "outputs": [],
   "source": [
    "def La_funcion3(string, n, **Diccionario): \n",
    "\tprint(string *n)\n",
    "\tprint(Diccionario[\"clave1\"] * n)\n",
    "\tprint(Diccionario[\"clave2\"] * (n-1)) #podemos alterar el parátro para que imprima sólo 2 veces el argumento\n",
    "\tprint(Diccionario[\"clave3\"])\n"
   ]
  },
  {
   "cell_type": "markdown",
   "metadata": {},
   "source": [
    "Al invocar la funcion agregaremos tres pares de \"clave-argumento\" e imprimiremos el argumento \"n\" veces"
   ]
  },
  {
   "cell_type": "code",
   "execution_count": 27,
   "metadata": {
    "scrolled": true
   },
   "outputs": [
    {
     "name": "stdout",
     "output_type": "stream",
     "text": [
      "Hola Hola Hola \n",
      "argumento1 argumento1 argumento1 \n",
      "argumento2 argumento2 \n",
      "argumento3 \n"
     ]
    }
   ],
   "source": [
    "La_funcion3(\"Hola \", 3, clave1 = \"argumento1 \",clave2 = \"argumento2 \",clave3 = \"argumento3 \")"
   ]
  },
  {
   "cell_type": "markdown",
   "metadata": {},
   "source": [
    "También podemos recorrer el diccionario con un bucle \"for\" para que nos devuelva las claves:"
   ]
  },
  {
   "cell_type": "code",
   "execution_count": 28,
   "metadata": {},
   "outputs": [],
   "source": [
    "def La_funcion4(string, n, **Diccionario2):\n",
    "\tprint(string *n)\n",
    "\tfor i in Diccionario2:\n",
    "\t\tprint(i)"
   ]
  },
  {
   "cell_type": "code",
   "execution_count": 29,
   "metadata": {
    "scrolled": false
   },
   "outputs": [
    {
     "name": "stdout",
     "output_type": "stream",
     "text": [
      "Hola Hola Hola \n",
      "clave1\n",
      "clave2\n",
      "clave3\n"
     ]
    }
   ],
   "source": [
    "La_funcion4(\"Hola \", 3, clave1 = \"argumento1 \",clave2 = \"argumento2 \",clave3 = \"argumento3 \")"
   ]
  },
  {
   "cell_type": "markdown",
   "metadata": {},
   "source": [
    "Y si deseamos imprimir los argumentos agregamos el comando .values():"
   ]
  },
  {
   "cell_type": "code",
   "execution_count": 30,
   "metadata": {},
   "outputs": [],
   "source": [
    "def La_funcion5(string, n, **Diccionario3): \n",
    "    print(string *n)\n",
    "    for i in Diccionario3.values():\n",
    "        print(i)"
   ]
  },
  {
   "cell_type": "code",
   "execution_count": 31,
   "metadata": {},
   "outputs": [
    {
     "name": "stdout",
     "output_type": "stream",
     "text": [
      "Hola Hola Hola \n",
      "argumento1 \n",
      "argumento2 \n",
      "argumento3 \n"
     ]
    }
   ],
   "source": [
    "La_funcion5(\"Hola \", 3, clave1 = \"argumento1 \",clave2 = \"argumento2 \",clave3 = \"argumento3 \")"
   ]
  },
  {
   "cell_type": "markdown",
   "metadata": {},
   "source": [
    "## Generadores\n",
    "\n",
    "Los generadores son estructuras que extraen valores de una función y se almacenan en objetos iterables, es decir que se pueden recorrer con un bucle. A diferencia de una función, que devuelve todos los valores mediante el comando \"return\", los generadores devuelven de uno en uno, lo que redunda en más eficiencia de la memoria de nuestro proceso.\n",
    "\n",
    "En los siguientes ejemplos se explica esta estructura, sin emabrgo no se observarán variaciones de eficiencia debido a lo simple de los códigos. \n",
    "\n",
    "Comenzaremos revisando una función común que irá agregando números pares a una lista inicialmente vacía (miLista=[]) hasta que el valor generado por el bucle \"while\" sea menor al límite que que definimos como parámetro, y que ingresaremos al  momento de invocar la función. Recordemos que si no asignamos un límite el bucle \"while\" funcionaría de manera infinita.\n",
    "\n",
    "Para rellenar la lista utilizaremos el parámetro \"append\". En python existe la llamada metodología del punto, que será la que aplicaremos en este ejemplo y que, por lo demás, es ampliamente utilizada en programación python.\n"
   ]
  },
  {
   "cell_type": "code",
   "execution_count": 32,
   "metadata": {},
   "outputs": [],
   "source": [
    "def generaPares(limite): \n",
    "\n",
    "\tnum=1 # inicializamos con un objeto iual  uno\n",
    "\n",
    "\tmiLista=[]\n",
    "\n",
    "\twhile num<limite:\n",
    "\n",
    "\t\tmiLista.append(num*2) # con la metodología del punto y el comando append indicamos que se agreguen \n",
    "                              # los números pares a la lista\n",
    "\n",
    "\t\tnum=num+1\n",
    "\n",
    "\treturn miLista"
   ]
  },
  {
   "cell_type": "markdown",
   "metadata": {},
   "source": [
    "Luego imprimimos el objeto (Lista) y asignamos un límite"
   ]
  },
  {
   "cell_type": "code",
   "execution_count": 33,
   "metadata": {},
   "outputs": [
    {
     "name": "stdout",
     "output_type": "stream",
     "text": [
      "[2, 4, 6, 8, 10, 12, 14, 16, 18]\n"
     ]
    }
   ],
   "source": [
    "print(generaPares(10))"
   ]
  },
  {
   "cell_type": "markdown",
   "metadata": {},
   "source": [
    "Ahora realizaremos la misma tarea, pero utilizaremos un generador, en cuya contrucción utilizaremos el comando \"yield\" que, a su vez, construye el objeto iterable que mencionamos. "
   ]
  },
  {
   "cell_type": "code",
   "execution_count": 34,
   "metadata": {},
   "outputs": [],
   "source": [
    "def generaPares(limite):\n",
    "\n",
    " \tnum=1\n",
    "\n",
    " \twhile num<limite:\n",
    "\n",
    " \t\tyield num*2 #construye un objeto iterable y lo va almacenando de uno en uno\n",
    "\n",
    " \t\tnum=num+1\n"
   ]
  },
  {
   "cell_type": "markdown",
   "metadata": {},
   "source": [
    "La función con generador será almacenada en el objeto \"devuelvePares\" el cual será recorrido por el bucle for:"
   ]
  },
  {
   "cell_type": "code",
   "execution_count": 35,
   "metadata": {},
   "outputs": [],
   "source": [
    "devuelvePares=generaPares(10)"
   ]
  },
  {
   "cell_type": "markdown",
   "metadata": {},
   "source": [
    "Recorremos entonces el objeto y observamos el resultado"
   ]
  },
  {
   "cell_type": "code",
   "execution_count": 36,
   "metadata": {
    "scrolled": true
   },
   "outputs": [
    {
     "name": "stdout",
     "output_type": "stream",
     "text": [
      "2\n",
      "4\n",
      "6\n",
      "8\n",
      "10\n",
      "12\n",
      "14\n",
      "16\n",
      "18\n"
     ]
    }
   ],
   "source": [
    "for i in devuelvePares:\n",
    "\n",
    " \tprint(i)"
   ]
  },
  {
   "cell_type": "markdown",
   "metadata": {},
   "source": [
    "Dado que con el generador no se producen todos los resultados de una vez como es el caso de la primero función, es posible ir obteniendo registro a registro mediante el comando \"Next\". Para ello repetiremos el ejemplo cambiando sólo el nombre a la función con generador, pero la invocación será diferente.\n",
    "\n",
    "Creamos la función generaPares2"
   ]
  },
  {
   "cell_type": "code",
   "execution_count": 37,
   "metadata": {},
   "outputs": [],
   "source": [
    "def generaPares2(limite):\n",
    "\n",
    " \tnum=1\n",
    "\n",
    " \twhile num<limite:\n",
    "\n",
    " \t\tyield num*2 #construye un objeto iterable y lo va almacenando de uno en uno\n",
    "\n",
    " \t\tnum=num+1"
   ]
  },
  {
   "cell_type": "markdown",
   "metadata": {},
   "source": [
    "invocamos la función considerando un límite de diez registros"
   ]
  },
  {
   "cell_type": "code",
   "execution_count": 38,
   "metadata": {},
   "outputs": [],
   "source": [
    "devuelvePares2=generaPares2(10)"
   ]
  },
  {
   "cell_type": "markdown",
   "metadata": {},
   "source": [
    "Obtenemos el primer registro con el comando \"next\""
   ]
  },
  {
   "cell_type": "code",
   "execution_count": 39,
   "metadata": {},
   "outputs": [
    {
     "name": "stdout",
     "output_type": "stream",
     "text": [
      "2\n"
     ]
    }
   ],
   "source": [
    "print(next(devuelvePares2))"
   ]
  },
  {
   "cell_type": "markdown",
   "metadata": {},
   "source": [
    "Obtenemos el segundo registro"
   ]
  },
  {
   "cell_type": "code",
   "execution_count": 40,
   "metadata": {
    "scrolled": true
   },
   "outputs": [
    {
     "name": "stdout",
     "output_type": "stream",
     "text": [
      "4\n"
     ]
    }
   ],
   "source": [
    "print(next(devuelvePares2))"
   ]
  },
  {
   "cell_type": "markdown",
   "metadata": {},
   "source": [
    "obtenemos el tercer registro...etc."
   ]
  },
  {
   "cell_type": "code",
   "execution_count": 41,
   "metadata": {},
   "outputs": [
    {
     "name": "stdout",
     "output_type": "stream",
     "text": [
      "6\n"
     ]
    }
   ],
   "source": [
    "print(next(devuelvePares2))"
   ]
  },
  {
   "cell_type": "markdown",
   "metadata": {},
   "source": [
    "Note que si el objetivo es obtener los 3 primeros valores de la lista como lo hicimos con el método netx, también lo podemos hacer programando una función tradicional, sin embargo la eficiencia no será la misma que al realizarla con un generador."
   ]
  },
  {
   "cell_type": "markdown",
   "metadata": {},
   "source": [
    "## Comandos Yield For"
   ]
  },
  {
   "cell_type": "markdown",
   "metadata": {},
   "source": [
    "Al igual que con las funciones tradicionales en ocasiones necesitamos escribir generadores anidados, es decir una función generadora contenida dentro de otra función generadora, esto con el objetivo de recorrer los elementos y subelementos creados en el objeto.\n",
    "\n",
    "En el siguiente ejemplo realizaremos un generador simple para crear una lista con el nombre de algunas ciudades, y posteriormente realizaremos otro generador anidado en el primeo, lo que nos permita recorrer cada caracter que compone el nombre de las ciudades. Esto lo conseguiremos con los comandos \"yield for\"."
   ]
  },
  {
   "cell_type": "code",
   "execution_count": 42,
   "metadata": {},
   "outputs": [],
   "source": [
    "def devuelve_ciudades(*ciudades):\n",
    "    for elemento in ciudades:\n",
    "        yield elemento\n"
   ]
  },
  {
   "cell_type": "markdown",
   "metadata": {},
   "source": [
    "Creamos el objeto invocando la función y, dado que dejamos abierto el parámetro para la creación de una tupla, asignamos cuatro ciudades a nuestro objeto."
   ]
  },
  {
   "cell_type": "code",
   "execution_count": 43,
   "metadata": {},
   "outputs": [],
   "source": [
    "ciudades_devueltas=devuelve_ciudades(\"Santiago\",\"Valparaiso\",\"Concepción\",\"Rancagua\")"
   ]
  },
  {
   "cell_type": "markdown",
   "metadata": {},
   "source": [
    "Con el comando next invocamos el primer elemento de la tupla"
   ]
  },
  {
   "cell_type": "code",
   "execution_count": 44,
   "metadata": {},
   "outputs": [
    {
     "name": "stdout",
     "output_type": "stream",
     "text": [
      "Santiago\n"
     ]
    }
   ],
   "source": [
    "print(next(ciudades_devueltas))"
   ]
  },
  {
   "cell_type": "markdown",
   "metadata": {},
   "source": [
    "Nuevamente con el comando next invocamos el segundo elemento de la tupla"
   ]
  },
  {
   "cell_type": "code",
   "execution_count": 45,
   "metadata": {},
   "outputs": [
    {
     "name": "stdout",
     "output_type": "stream",
     "text": [
      "Valparaiso\n"
     ]
    }
   ],
   "source": [
    "print(next(ciudades_devueltas))"
   ]
  },
  {
   "cell_type": "markdown",
   "metadata": {},
   "source": [
    "Para recorrer cada subelemento de la tupla crearemos una generador anidado con el comando \"for\""
   ]
  },
  {
   "cell_type": "code",
   "execution_count": 46,
   "metadata": {},
   "outputs": [],
   "source": [
    "def devuelve_ciudades2(*ciudades): \n",
    "\tfor elemento in ciudades:\n",
    "\t\tfor subElemento in elemento:\n",
    "\t\t\tyield subElemento\n",
    "\n",
    "ciudades_devueltas2=devuelve_ciudades2(\"Santiago\",\"Valparaiso\",\"Concepción\",\"Rancagua\")\n"
   ]
  },
  {
   "cell_type": "markdown",
   "metadata": {},
   "source": [
    "Consultamos el primer sub elemento del elemento \"Santiago\""
   ]
  },
  {
   "cell_type": "code",
   "execution_count": 47,
   "metadata": {},
   "outputs": [
    {
     "name": "stdout",
     "output_type": "stream",
     "text": [
      "S\n"
     ]
    }
   ],
   "source": [
    "print(next(ciudades_devueltas2))"
   ]
  },
  {
   "cell_type": "markdown",
   "metadata": {},
   "source": [
    "Consultamos el segundo sub elemento del elemento \"Santiago\""
   ]
  },
  {
   "cell_type": "code",
   "execution_count": 48,
   "metadata": {},
   "outputs": [
    {
     "name": "stdout",
     "output_type": "stream",
     "text": [
      "a\n"
     ]
    }
   ],
   "source": [
    "print(next(ciudades_devueltas2))"
   ]
  },
  {
   "cell_type": "markdown",
   "metadata": {},
   "source": [
    "# Excepciones"
   ]
  },
  {
   "cell_type": "markdown",
   "metadata": {},
   "source": [
    "En ocasiones nos encontramos programando un determinado proceso pero debemos aceptar que en una parte de este pueden ocurrir errores, como por ejemplo una división por cero. El problema que puede ocurrir es que el proceso deje de funcionar por completo sólo por un error localizado. Luego se hace necesario instruir al programa para que no considere el error ocurrido en esa parte del programa y continúe ejecutando los procesos siguientes. Para ello existen las excepciones que revisaremos acontinuación."
   ]
  },
  {
   "cell_type": "markdown",
   "metadata": {},
   "source": [
    "En el siguiente ejemplo utilizaremos la librería math que nos permitirá importar la función que calcula la raiz cuadrada de un número. Con el comando \"import\" relizamos la importación.\n",
    "\n",
    "Crearemos un objeto y se solicitará a un usuario que ingrese un número para el cáculo de la raiz cuadrada. Para entender la excepción es necesario que ingrese un número negativo, por ejemplo -3."
   ]
  },
  {
   "cell_type": "code",
   "execution_count": 49,
   "metadata": {},
   "outputs": [],
   "source": [
    "import math"
   ]
  },
  {
   "cell_type": "code",
   "execution_count": 50,
   "metadata": {},
   "outputs": [
    {
     "name": "stdout",
     "output_type": "stream",
     "text": [
      "Introduce numero: -3\n"
     ]
    }
   ],
   "source": [
    "sqrt=(int(input(\"Introduce numero: \")))\n",
    "\n",
    "def CalculaRaiz(num1):\n",
    "\n",
    "\t\treturn math.sqrt(num1)\n",
    "\n",
    "\n",
    "\n"
   ]
  },
  {
   "cell_type": "markdown",
   "metadata": {},
   "source": [
    "Luego imprimiremos el resultado y veremos que el programa se detiene para arroja un error"
   ]
  },
  {
   "cell_type": "code",
   "execution_count": 51,
   "metadata": {},
   "outputs": [
    {
     "ename": "ValueError",
     "evalue": "math domain error",
     "output_type": "error",
     "traceback": [
      "\u001b[1;31m---------------------------------------------------------------------------\u001b[0m",
      "\u001b[1;31mValueError\u001b[0m                                Traceback (most recent call last)",
      "\u001b[1;32m<ipython-input-51-80fe5571cad1>\u001b[0m in \u001b[0;36m<module>\u001b[1;34m\u001b[0m\n\u001b[1;32m----> 1\u001b[1;33m \u001b[0mprint\u001b[0m\u001b[1;33m(\u001b[0m\u001b[0mCalculaRaiz\u001b[0m\u001b[1;33m(\u001b[0m\u001b[0msqrt\u001b[0m\u001b[1;33m)\u001b[0m\u001b[1;33m)\u001b[0m \u001b[1;31m#podemos entonces observar que python nos arroja un ValueError\u001b[0m\u001b[1;33m\u001b[0m\u001b[1;33m\u001b[0m\u001b[0m\n\u001b[0m",
      "\u001b[1;32m<ipython-input-50-25e660e8c1e2>\u001b[0m in \u001b[0;36mCalculaRaiz\u001b[1;34m(num1)\u001b[0m\n\u001b[0;32m      3\u001b[0m \u001b[1;32mdef\u001b[0m \u001b[0mCalculaRaiz\u001b[0m\u001b[1;33m(\u001b[0m\u001b[0mnum1\u001b[0m\u001b[1;33m)\u001b[0m\u001b[1;33m:\u001b[0m\u001b[1;33m\u001b[0m\u001b[1;33m\u001b[0m\u001b[0m\n\u001b[0;32m      4\u001b[0m \u001b[1;33m\u001b[0m\u001b[0m\n\u001b[1;32m----> 5\u001b[1;33m                 \u001b[1;32mreturn\u001b[0m \u001b[0mmath\u001b[0m\u001b[1;33m.\u001b[0m\u001b[0msqrt\u001b[0m\u001b[1;33m(\u001b[0m\u001b[0mnum1\u001b[0m\u001b[1;33m)\u001b[0m\u001b[1;33m\u001b[0m\u001b[1;33m\u001b[0m\u001b[0m\n\u001b[0m\u001b[0;32m      6\u001b[0m \u001b[1;33m\u001b[0m\u001b[0m\n\u001b[0;32m      7\u001b[0m \u001b[1;33m\u001b[0m\u001b[0m\n",
      "\u001b[1;31mValueError\u001b[0m: math domain error"
     ]
    }
   ],
   "source": [
    "print(CalculaRaiz(sqrt)) #podemos entonces observar que python nos arroja un ValueError"
   ]
  },
  {
   "cell_type": "markdown",
   "metadata": {},
   "source": [
    "Podemos identificar este error mediante un condicional \"if\", e indicar a python que imprima un mensaje, auque no solucionaremos el problema de la caida general del programa."
   ]
  },
  {
   "cell_type": "code",
   "execution_count": 52,
   "metadata": {},
   "outputs": [
    {
     "name": "stdout",
     "output_type": "stream",
     "text": [
      "Introduce numero: -3\n"
     ]
    },
    {
     "ename": "ValueError",
     "evalue": "El numero  no puede ser negativo",
     "output_type": "error",
     "traceback": [
      "\u001b[1;31m---------------------------------------------------------------------------\u001b[0m",
      "\u001b[1;31mValueError\u001b[0m                                Traceback (most recent call last)",
      "\u001b[1;32m<ipython-input-52-73b78ddbc8c0>\u001b[0m in \u001b[0;36m<module>\u001b[1;34m\u001b[0m\n\u001b[0;32m      8\u001b[0m \u001b[0mop1\u001b[0m\u001b[1;33m=\u001b[0m\u001b[1;33m(\u001b[0m\u001b[0mint\u001b[0m\u001b[1;33m(\u001b[0m\u001b[0minput\u001b[0m\u001b[1;33m(\u001b[0m\u001b[1;34m\"Introduce numero: \"\u001b[0m\u001b[1;33m)\u001b[0m\u001b[1;33m)\u001b[0m\u001b[1;33m)\u001b[0m\u001b[1;33m\u001b[0m\u001b[1;33m\u001b[0m\u001b[0m\n\u001b[0;32m      9\u001b[0m \u001b[1;33m\u001b[0m\u001b[0m\n\u001b[1;32m---> 10\u001b[1;33m \u001b[0mprint\u001b[0m\u001b[1;33m(\u001b[0m\u001b[0mCalculaRaiz\u001b[0m\u001b[1;33m(\u001b[0m\u001b[0msqrt\u001b[0m\u001b[1;33m)\u001b[0m\u001b[1;33m)\u001b[0m\u001b[1;33m\u001b[0m\u001b[1;33m\u001b[0m\u001b[0m\n\u001b[0m",
      "\u001b[1;32m<ipython-input-52-73b78ddbc8c0>\u001b[0m in \u001b[0;36mCalculaRaiz\u001b[1;34m(num1)\u001b[0m\n\u001b[0;32m      2\u001b[0m \u001b[1;33m\u001b[0m\u001b[0m\n\u001b[0;32m      3\u001b[0m         \u001b[1;32mif\u001b[0m \u001b[0mnum1\u001b[0m\u001b[1;33m<\u001b[0m\u001b[1;36m0\u001b[0m\u001b[1;33m:\u001b[0m\u001b[1;33m\u001b[0m\u001b[1;33m\u001b[0m\u001b[0m\n\u001b[1;32m----> 4\u001b[1;33m                 \u001b[1;32mraise\u001b[0m \u001b[0mValueError\u001b[0m \u001b[1;33m(\u001b[0m\u001b[1;34m\"El numero  no puede ser negativo\"\u001b[0m\u001b[1;33m)\u001b[0m \u001b[1;31m#lanza el error con el texto indicado\u001b[0m\u001b[1;33m\u001b[0m\u001b[1;33m\u001b[0m\u001b[0m\n\u001b[0m\u001b[0;32m      5\u001b[0m         \u001b[1;32melse\u001b[0m\u001b[1;33m:\u001b[0m\u001b[1;33m\u001b[0m\u001b[1;33m\u001b[0m\u001b[0m\n\u001b[0;32m      6\u001b[0m                 \u001b[1;32mreturn\u001b[0m \u001b[0mmath\u001b[0m\u001b[1;33m.\u001b[0m\u001b[0msqrt\u001b[0m\u001b[1;33m(\u001b[0m\u001b[0mnum1\u001b[0m\u001b[1;33m)\u001b[0m\u001b[1;33m\u001b[0m\u001b[1;33m\u001b[0m\u001b[0m\n",
      "\u001b[1;31mValueError\u001b[0m: El numero  no puede ser negativo"
     ]
    }
   ],
   "source": [
    "def CalculaRaiz(num1):\n",
    "\n",
    "\tif num1<0:\n",
    "\t\traise ValueError (\"El numero  no puede ser negativo\") #lanza el error con el texto indicado\n",
    "\telse:\n",
    "\t\treturn math.sqrt(num1)\n",
    "\n",
    "op1=(int(input(\"Introduce numero: \")))\n",
    "\n",
    "print(CalculaRaiz(sqrt))\n"
   ]
  },
  {
   "cell_type": "markdown",
   "metadata": {},
   "source": [
    "Es entonces donde podemos generar una excepción con los comandos \"try\" y \"Except\", con esto podemos programar un mensaje que nos indique el error, sin embargo de existir más código este se ejecutaría de manera secuencial dado que hemos instruido a python realizar la excepción."
   ]
  },
  {
   "cell_type": "code",
   "execution_count": 53,
   "metadata": {},
   "outputs": [
    {
     "name": "stdout",
     "output_type": "stream",
     "text": [
      "Introduce numero: -3\n",
      "El numero  no puede ser negativo\n",
      "Programa terminado\n"
     ]
    }
   ],
   "source": [
    "def CalculaRaiz(num1):\n",
    "\n",
    "\tif num1<0:\n",
    "\t\traise ValueError (\"El numero  no puede ser negativo\") #lanza el error con el texto indicado\n",
    "\telse:\n",
    "\t\treturn math.sqrt(num1)\n",
    "\n",
    "op1=(int(input(\"Introduce numero: \")))\n",
    "\n",
    "try:\n",
    "\tprint(CalculaRaiz(sqrt))\t\n",
    "\n",
    "except ValueError as ErrorNumNegativo:\n",
    "\tprint(ErrorNumNegativo)\n",
    "\n",
    "print(\"Programa terminado\")"
   ]
  },
  {
   "cell_type": "code",
   "execution_count": null,
   "metadata": {},
   "outputs": [],
   "source": []
  }
 ],
 "metadata": {
  "kernelspec": {
   "display_name": "Python 3",
   "language": "python",
   "name": "python3"
  },
  "language_info": {
   "codemirror_mode": {
    "name": "ipython",
    "version": 3
   },
   "file_extension": ".py",
   "mimetype": "text/x-python",
   "name": "python",
   "nbconvert_exporter": "python",
   "pygments_lexer": "ipython3",
   "version": "3.7.4"
  }
 },
 "nbformat": 4,
 "nbformat_minor": 2
}
